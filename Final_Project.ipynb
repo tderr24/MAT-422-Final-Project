{
  "cells": [
    {
      "cell_type": "markdown",
      "metadata": {
        "id": "view-in-github",
        "colab_type": "text"
      },
      "source": [
        "<a href=\"https://colab.research.google.com/github/tderr24/MAT-422-Final-Project/blob/main/Final_Project.ipynb\" target=\"_parent\"><img src=\"https://colab.research.google.com/assets/colab-badge.svg\" alt=\"Open In Colab\"/></a>"
      ]
    },
    {
      "cell_type": "code",
      "execution_count": null,
      "id": "71080114",
      "metadata": {
        "id": "71080114"
      },
      "outputs": [],
      "source": [
        "import pandas as pd\n",
        "import matplotlib.pyplot as plt\n",
        "from sklearn.model_selection import train_test_split\n",
        "from sklearn import svm\n",
        "from sklearn.linear_model import LogisticRegression\n",
        "from sklearn.neural_network import MLPClassifier\n",
        "from sklearn.metrics import accuracy_score\n",
        "\n",
        "data = pd.read_csv('diabetes.csv')\n",
        "df = data[['Glucose','BloodPressure','Insulin','BMI','Outcome']]\n",
        "\n",
        "X_train, X_test, y_train, y_test = train_test_split(df[['Glucose','BloodPressure','Insulin','BMI']], df['Outcome'], test_size=0.33, random_state=42)"
      ]
    },
    {
      "cell_type": "markdown",
      "id": "202511b5",
      "metadata": {
        "id": "202511b5"
      },
      "source": [
        "## Logistic regression"
      ]
    },
    {
      "cell_type": "code",
      "execution_count": null,
      "id": "ca52ef57",
      "metadata": {
        "id": "ca52ef57",
        "outputId": "45783506-42c9-4982-806e-7a4544265c78"
      },
      "outputs": [
        {
          "name": "stdout",
          "output_type": "stream",
          "text": [
            "Accuracy: 0.7362204724409449\n"
          ]
        }
      ],
      "source": [
        "log = LogisticRegression(C=1, solver='liblinear')\n",
        "log.fit(X_train,y_train)\n",
        "\n",
        "yhat = log.predict(X_test)\n",
        "\n",
        "print('Accuracy:', accuracy_score(y_test, yhat))"
      ]
    },
    {
      "cell_type": "code",
      "execution_count": null,
      "id": "56a32500",
      "metadata": {
        "id": "56a32500",
        "outputId": "ee19a46d-166f-4232-a3cd-299abc67e39c"
      },
      "outputs": [
        {
          "data": {
            "text/plain": [
              "<AxesSubplot:title={'center':'Absolute Value of Logistic Regression Model Coefficients'}>"
            ]
          },
          "execution_count": 3,
          "metadata": {},
          "output_type": "execute_result"
        },
        {
          "data": {
            "image/png": "[encoded data removed]",
            "text/plain": [
              "<Figure size 432x288 with 1 Axes>"
            ]
          },
          "metadata": {
            "needs_background": "light"
          },
          "output_type": "display_data"
        }
      ],
      "source": [
        "(pd.Series(abs(log.coef_[0]), index=X_train.columns)\n",
        "   .nlargest(4)\n",
        "   .plot(kind='barh',title=\"Absolute Value of Logistic Regression Model Coefficients\"))"
      ]
    },
    {
      "cell_type": "markdown",
      "id": "e869816a",
      "metadata": {
        "id": "e869816a"
      },
      "source": [
        "## Support vector machine"
      ]
    },
    {
      "cell_type": "code",
      "execution_count": null,
      "id": "f5f0559c",
      "metadata": {
        "id": "f5f0559c",
        "outputId": "002cdd25-5406-4e25-a0be-0f1008c05943"
      },
      "outputs": [
        {
          "name": "stdout",
          "output_type": "stream",
          "text": [
            "Accuracy: 0.7519685039370079\n"
          ]
        }
      ],
      "source": [
        "clf = svm.SVC(kernel='linear')\n",
        "clf.fit(X_train, y_train)\n",
        "\n",
        "yhat = clf.predict(X_test)\n",
        "\n",
        "print('Accuracy:', accuracy_score(y_test, yhat))"
      ]
    },
    {
      "cell_type": "code",
      "execution_count": null,
      "id": "7832eed8",
      "metadata": {
        "id": "7832eed8",
        "outputId": "14bbfe26-1338-427a-f107-6cce517e6258"
      },
      "outputs": [
        {
          "data": {
            "text/plain": [
              "<AxesSubplot:title={'center':'Absolute Value of Support Vector Machine Coefficients'}>"
            ]
          },
          "execution_count": 5,
          "metadata": {},
          "output_type": "execute_result"
        },
        {
          "data": {
            "image/png": "[encoded data removed]",
            "text/plain": [
              "<Figure size 432x288 with 1 Axes>"
            ]
          },
          "metadata": {
            "needs_background": "light"
          },
          "output_type": "display_data"
        }
      ],
      "source": [
        "(pd.Series(abs(clf.coef_[0]), index=X_train.columns)\n",
        "   .nlargest(4)\n",
        "   .plot(kind='barh',title=\"Absolute Value of Support Vector Machine Coefficients\"))"
      ]
    },
    {
      "cell_type": "markdown",
      "id": "1e8cdeac",
      "metadata": {
        "id": "1e8cdeac"
      },
      "source": [
        "## Neural Network"
      ]
    },
    {
      "cell_type": "code",
      "execution_count": null,
      "id": "fd8fb127",
      "metadata": {
        "id": "fd8fb127",
        "outputId": "347a193b-7b7c-4e28-ab02-d0057e91b437"
      },
      "outputs": [
        {
          "name": "stdout",
          "output_type": "stream",
          "text": [
            "Accuracy: 0.7086614173228346\n"
          ]
        }
      ],
      "source": [
        "clf = MLPClassifier(solver='adam',\n",
        "                    activation='tanh',\n",
        "                    alpha=1e-5,\n",
        "                    hidden_layer_sizes=(100,2),\n",
        "                   learning_rate='adaptive',\n",
        "                   max_iter=500)\n",
        "clf.fit(X_train, y_train)\n",
        "\n",
        "yhat = clf.predict(X_test)\n",
        "\n",
        "print('Accuracy:', accuracy_score(y_test, yhat))"
      ]
    }
  ],
  "metadata": {
    "kernelspec": {
      "display_name": "Python 3",
      "language": "python",
      "name": "python3"
    },
    "language_info": {
      "codemirror_mode": {
        "name": "ipython",
        "version": 3
      },
      "file_extension": ".py",
      "mimetype": "text/x-python",
      "name": "python",
      "nbconvert_exporter": "python",
      "pygments_lexer": "ipython3",
      "version": "3.8.10"
    },
    "colab": {
      "provenance": [],
      "include_colab_link": true
    }
  },
  "nbformat": 4,
  "nbformat_minor": 5
}